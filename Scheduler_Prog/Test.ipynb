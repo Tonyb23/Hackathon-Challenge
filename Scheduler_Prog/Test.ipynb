{
 "cells": [
  {
   "cell_type": "code",
   "execution_count": 17,
   "metadata": {},
   "outputs": [
    {
     "name": "stdout",
     "output_type": "stream",
     "text": [
      "What Service do you want?\n",
      "1). ATM Collection\n",
      "2). Cash Transaction\n",
      " 10\n",
      "Invalid Selection, Kindly see a Customer Service Rep\n",
      "5\n"
     ]
    }
   ],
   "source": [
    "\n",
    "\n",
    "temp = int(input(\"What Service do you want?\\n\" \"1). ATM Collection\\n\" \"2). Cash Transaction\\n \" ))\n",
    "\n",
    "if temp == 1:\n",
    "    burst_time = 10\n",
    "elif temp == 2:\n",
    "    burst_time = 20\n",
    "else: \n",
    "    print(\"Invalid Selection, Kindly see a Customer Service Rep\")\n",
    "    burst_time = 5\n",
    "print(burst_time)\n",
    "\n",
    "\n",
    "    \n"
   ]
  },
  {
   "cell_type": "code",
   "execution_count": null,
   "metadata": {},
   "outputs": [],
   "source": []
  },
  {
   "cell_type": "markdown",
   "metadata": {},
   "source": [
    "### "
   ]
  }
 ],
 "metadata": {
  "kernelspec": {
   "display_name": "Python 3",
   "language": "python",
   "name": "python3"
  },
  "language_info": {
   "codemirror_mode": {
    "name": "ipython",
    "version": 3
   },
   "file_extension": ".py",
   "mimetype": "text/x-python",
   "name": "python",
   "nbconvert_exporter": "python",
   "pygments_lexer": "ipython3",
   "version": "3.8.3"
  }
 },
 "nbformat": 4,
 "nbformat_minor": 2
}
